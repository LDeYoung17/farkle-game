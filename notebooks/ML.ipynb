{
 "cells": [
  {
   "cell_type": "code",
   "execution_count": 1,
   "metadata": {},
   "outputs": [],
   "source": [
    "import random\n",
    "import dice"
   ]
  },
  {
   "cell_type": "code",
   "execution_count": 6,
   "metadata": {},
   "outputs": [
    {
     "name": "stdout",
     "output_type": "stream",
     "text": [
      "[5, 4, 4, 1, 6, 1]\n"
     ]
    }
   ],
   "source": [
    "scoring_list = []\n",
    "roll_test = dice.roll('6d6')\n",
    "print(roll_test)\n",
    "\n",
    "#roll_list = roll_test[1]\n",
    "#print(roll_list)"
   ]
  },
  {
   "cell_type": "code",
   "execution_count": null,
   "metadata": {},
   "outputs": [],
   "source": [
    "# Count occurrences of each value in roll_test\n",
    "value_counts = {value: roll_test.count(value) for value in set(roll_test)}\n",
    "\n",
    "# Check if there are exactly three pairs\n",
    "if all(count == 2 for count in value_counts.values()):\n",
    "    scoring_list.append(1500)\n",
    "    # Remove all pairs from roll_test\n",
    "    roll_test = [value for value in roll_test if value_counts[value] != 2]\n",
    "\n",
    "print(\"Scoring List:\", scoring_list)"
   ]
  },
  {
   "cell_type": "code",
   "execution_count": 12,
   "metadata": {},
   "outputs": [
    {
     "name": "stdout",
     "output_type": "stream",
     "text": [
      "[6]\n",
      "[50, 1500, 100]\n"
     ]
    }
   ],
   "source": [
    "for i in roll_test:\n",
    "    if roll_test.count(i) == 6:\n",
    "        scoring_list.append(3000)\n",
    "        break\n",
    "\n",
    "    elif roll_test.count(i) == 3:\n",
    "        for j in roll_test:\n",
    "            if i != j and roll_test.count(j) == 3:\n",
    "                scoring_list.append(2500)\n",
    "                roll_test = [value for value in roll_test if value not in [i, j]]\n",
    "                #roll_test = [value for value in roll_test if value != j]\n",
    "            else:\n",
    "                scoring_list.append((i * 100))\n",
    "                roll_test = [value for value in roll_test if value != i]\n",
    "                #break\n",
    "\n",
    "    elif roll_test.count(i) == 5:\n",
    "        scoring_list.append(2000)\n",
    "        roll_test = [value for value in roll_test if value != i]\n",
    "        #break\n",
    "\n",
    "    elif roll_test.count(i) == 4:\n",
    "        for j in roll_test:\n",
    "            if i != j and roll_test.count(j) == 2:\n",
    "                scoring_list.append(1500)\n",
    "                roll_test = [value for value in roll_test if value not in [i, j]]\n",
    "            else:\n",
    "                scoring_list.append(1000)\n",
    "                roll_test = [value for value in roll_test if value != i]\n",
    "                #break\n",
    "\n",
    "    elif roll_test.count(i) == 2:\n",
    "        for j in roll_test:\n",
    "            if i != j and roll_test.count(j) == 2:\n",
    "                for k in roll_test:\n",
    "                    if j != k and roll_test.count(k) == 2:\n",
    "                        scoring_list.append(1500)\n",
    "                        roll_test = [value for value in roll_test if value not in [i, j, k]]\n",
    "                    else:\n",
    "                        break\n",
    "                        #break\n",
    "                    \n",
    "    elif roll_test.sort() == [1,2,3,4,5,6]:\n",
    "        scoring_list.append(1500)\n",
    "        #break\n",
    "     \n",
    "    elif i == 1:\n",
    "        scoring_list.append(100)\n",
    "        roll_test.remove(i)\n",
    "        #break\n",
    "    \n",
    "    elif i == 5:\n",
    "        scoring_list.append(50)\n",
    "        roll_test.remove(i)\n",
    "        #break\n",
    "    else:\n",
    "        break\n",
    "\n",
    "print(roll_test)\n",
    "print(scoring_list)\n"
   ]
  },
  {
   "cell_type": "code",
   "execution_count": null,
   "metadata": {},
   "outputs": [],
   "source": [
    "def fitness(roll):\n",
    "    total_score = 0\n",
    "    for i in range(3):\n",
    "\n",
    "        roll1 = dice.roll('6d6')\n",
    "\n",
    "\n",
    "\n",
    "        location2 = route[i+1]\n",
    "\n",
    "        lat_long_1 = (df_final_cities.loc[df_final_cities['number'] == location1, 'Latitude'].iloc[0], \n",
    "                      df_final_cities.loc[df_final_cities['number'] == location1, 'Longitude'].iloc[0])\n",
    "        lat_long_2 = (df_final_cities.loc[df_final_cities['number'] == location2, 'Latitude'].iloc[0], \n",
    "                      df_final_cities.loc[df_final_cities['number'] == location2, 'Longitude'].iloc[0])\n",
    "\n",
    "        total_score += calculate_distance(lat_long_1, lat_long_2)\n",
    "    return total_score"
   ]
  },
  {
   "cell_type": "code",
   "execution_count": null,
   "metadata": {},
   "outputs": [],
   "source": [
    "def create_population():\n",
    "    location_numbers = list(range(9))\n",
    "\n",
    "    population_size = 10 \n",
    "    population = []\n",
    "\n",
    "    for pop_number in range(population_size):\n",
    "        optimized_route = location_numbers[:]\n",
    "        random.shuffle(optimized_route)\n",
    "        population.append(optimized_route)\n",
    "    return population"
   ]
  },
  {
   "cell_type": "code",
   "execution_count": null,
   "metadata": {},
   "outputs": [],
   "source": [
    "def selection_optimize(population, fitness_func, tournament_size=10):\n",
    "    selected = []\n",
    "    for j in range(len(population)):\n",
    "        contenders = random.sample(population, tournament_size)\n",
    "        winner = min(contenders, key=fitness_func)\n",
    "        selected.append(winner)\n",
    "    return selected"
   ]
  },
  {
   "cell_type": "code",
   "execution_count": null,
   "metadata": {},
   "outputs": [],
   "source": [
    "def ordered_crossover(parent1, parent2):\n",
    "    size = len(parent1)\n",
    "    start, end = sorted(random.sample(range(size), 2))\n",
    "    offspring = [None] * size\n",
    "    offspring[start:end] = parent1[start:end]\n",
    "    fill_values = [item for item in parent2 if item not in offspring]\n",
    "    for i in range(size):\n",
    "        if offspring[i] is None:\n",
    "            offspring[i] = fill_values.pop(0)\n",
    "    return offspring"
   ]
  },
  {
   "cell_type": "code",
   "execution_count": null,
   "metadata": {},
   "outputs": [],
   "source": [
    "def swap_mutation(route, mutation_rate):\n",
    "    mutated_route = route[:]\n",
    "    for i in range(len(route)):\n",
    "        if random.random() < mutation_rate:\n",
    "            swap_index = random.randint(0, len(route) - 1)\n",
    "            mutated_route[i], mutated_route[swap_index] = mutated_route[swap_index], mutated_route[i]\n",
    "    return mutated_route"
   ]
  },
  {
   "cell_type": "code",
   "execution_count": null,
   "metadata": {},
   "outputs": [],
   "source": [
    "num_generations = 250 \n",
    "population_size = 10  \n",
    "mutation_rate = 0.1  \n",
    "best_route_per_generation = []\n",
    "\n",
    "# Initialize population with random routes\n",
    "selection_population = create_population()\n",
    "\n",
    "for generation in range(num_generations):\n",
    "\n",
    "    fitness_scores = [fitness(route) for route in selection_population]\n",
    "\n",
    "    optimized_selection = selection_optimize(selection_population, fitness, tournament_size=5)\n",
    "\n",
    "    next_generation = []\n",
    "    while len(next_generation) < population_size:\n",
    "        route_1, route_2 = random.sample(optimized_selection, 2)\n",
    "        crossover_route = ordered_crossover(route_1, route_2)\n",
    "        next_generation.append(crossover_route)\n",
    "\n",
    "    population = [swap_mutation(route, mutation_rate) for route in next_generation]\n",
    "\n",
    "    best_route = min(population, key=fitness)\n",
    "    best_route_fitness = fitness(best_route)\n",
    "    best_route_per_generation.append((best_route, best_route_fitness))\n"
   ]
  }
 ],
 "metadata": {
  "kernelspec": {
   "display_name": "base",
   "language": "python",
   "name": "python3"
  },
  "language_info": {
   "codemirror_mode": {
    "name": "ipython",
    "version": 3
   },
   "file_extension": ".py",
   "mimetype": "text/x-python",
   "name": "python",
   "nbconvert_exporter": "python",
   "pygments_lexer": "ipython3",
   "version": "3.11.5"
  },
  "orig_nbformat": 4
 },
 "nbformat": 4,
 "nbformat_minor": 2
}
